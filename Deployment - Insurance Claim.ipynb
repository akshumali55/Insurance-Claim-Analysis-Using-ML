{
 "cells": [
  {
   "cell_type": "code",
   "execution_count": 1,
   "id": "0082c113",
   "metadata": {},
   "outputs": [],
   "source": [
    "import warnings\n",
    "warnings.filterwarnings('ignore')\n",
    "#check \n",
    "#to read file in binary format\n",
    "#to open permanent file in temp file in read binary mode(rb)\n",
    "file1=open('scale.pkl','rb') # here scale.pkl exist and file1 is a temporary file\n",
    "file2=open('model.pkl','rb') #here model.pkl exist file and file2 is a temporary file"
   ]
  },
  {
   "cell_type": "markdown",
   "id": "847e986a",
   "metadata": {},
   "source": []
  },
  {
   "cell_type": "code",
   "execution_count": 2,
   "id": "a7eb1e25",
   "metadata": {},
   "outputs": [],
   "source": [
    "import pickle\n",
    "#to read data from file, use inbuilt  method load() of pickle library\n",
    "scale=pickle.load(file1) # scale user defined function\n",
    "model=pickle.load(file2) # model user defined function"
   ]
  },
  {
   "cell_type": "code",
   "execution_count": 1,
   "id": "9cafcead-7274-47d0-96af-a40a32ffdbc2",
   "metadata": {},
   "outputs": [
    {
     "name": "stdout",
     "output_type": "stream",
     "text": [
      "1\n",
      "Customer will claim for insurance\n"
     ]
    }
   ],
   "source": [
    "import numpy as np\n",
    "from sklearn.preprocessing import StandardScaler\n",
    "from sklearn.ensemble import RandomForestClassifier\n",
    "\n",
    "# Example training data (replace with your actual training data)\n",
    "X_train = np.array([\n",
    "    # Replace with your actual training feature data\n",
    "    [25, 1, 30.0, 2, 0, 1, 30000],\n",
    "    [30, 0, 25.0, 1, 1, 2, 15000],\n",
    "    # Add more rows as needed\n",
    "])\n",
    "y_train = np.array([0, 1])  # Replace with your actual labels\n",
    "\n",
    "# Initialize and fit the scaler\n",
    "scale = StandardScaler()\n",
    "scale.fit(X_train)\n",
    "\n",
    "# Initialize and fit the model\n",
    "model = RandomForestClassifier()\n",
    "model.fit(X_train, y_train)\n",
    "\n",
    "# Your input data\n",
    "age = 19\n",
    "sex = 0\n",
    "bmi = 27.9\n",
    "children = 1\n",
    "smoker = 1\n",
    "region = 3\n",
    "charges = 16884.92400\n",
    "\n",
    "# Create list and convert to numpy array\n",
    "X = [age, sex, bmi, children, smoker, region, charges]\n",
    "features = np.array([X])\n",
    "\n",
    "# Apply scaling\n",
    "features = scale.transform(features)\n",
    "\n",
    "# Predict the model\n",
    "Y_pred = model.predict(features)[0]\n",
    "\n",
    "# Output result\n",
    "print(Y_pred)\n",
    "if Y_pred == 1:\n",
    "    print('Customer will claim for insurance')\n",
    "else:\n",
    "    print('Customer will not claim for insurance')\n"
   ]
  }
 ],
 "metadata": {
  "kernelspec": {
   "display_name": "Python 3 (ipykernel)",
   "language": "python",
   "name": "python3"
  },
  "language_info": {
   "codemirror_mode": {
    "name": "ipython",
    "version": 3
   },
   "file_extension": ".py",
   "mimetype": "text/x-python",
   "name": "python",
   "nbconvert_exporter": "python",
   "pygments_lexer": "ipython3",
   "version": "3.12.4"
  }
 },
 "nbformat": 4,
 "nbformat_minor": 5
}
